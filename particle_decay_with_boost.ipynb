{
 "cells": [
  {
   "cell_type": "code",
   "execution_count": null,
   "metadata": {},
   "outputs": [],
   "source": [
    "# to install the relevant packages run in your terminal \n",
    "pip install numpy\n",
    "pip install uproot\n",
    "pip install uproot-methods "
   ]
  },
  {
   "cell_type": "code",
   "execution_count": 1,
   "metadata": {},
   "outputs": [],
   "source": [
    "from math import *\n",
    "import uproot\n",
    "from uproot_methods import *\n",
    "import numpy as np\n",
    "#import matplotlib\n",
    "#import matplotlib.pyplot as plt"
   ]
  },
  {
   "cell_type": "code",
   "execution_count": 2,
   "metadata": {
    "scrolled": false
   },
   "outputs": [],
   "source": [
    "\n",
    "def generate_direction():\n",
    "    '''Generate a random direction in spherical co-ordinates'''\n",
    "    # correct this\n",
    "    u = np.random.uniform(low=0, high=1)\n",
    "    v = np.random.uniform(low=0, high=1)\n",
    "    theta = acos(2*v-1)\n",
    "    phi = 2*pi*u\n",
    "    return theta, phi \n",
    "\n",
    "\n",
    "def decay(parent, child_mass):\n",
    "    '''Decay a particle into two equal mass daughter particles'''\n",
    "    \n",
    "    # Calculate momentum of children in centre of mass frame\n",
    "    print(\"mass: \"+str(parent.mass))\n",
    "    e_child_com = parent.mass/2.0\n",
    "    print(e_child_com)\n",
    "\n",
    "    child1_p = sqrt(e_child_com**2-child_mass**2) # from E^2 = p^2+m^2\n",
    "    \n",
    "#     # Generate random direction in spherical co-ordinate for one of the child's momentum \n",
    "#     child1_theta, child1_phi = generate_direction()\n",
    "    \n",
    "    # Generate child in upwards direction\n",
    "    child1_theta = 0 \n",
    "    child1_phi = 0 \n",
    "    \n",
    "    child1_px = child1_p*sin(child1_theta)*cos(child1_phi)\n",
    "    child1_py = child1_p*sin(child1_theta)*sin(child1_phi)\n",
    "    child1_pz = child1_p*cos(child1_theta)\n",
    "    \n",
    "    # Other child will be with momentum in equal and opposite direction in centre of mass frame\n",
    "    child1 = TLorentzVector(child1_px,child1_py,child1_pz,e_child_com)\n",
    "    child2 = TLorentzVector(-child1_px,-child1_py,-child1_pz,e_child_com)\n",
    "    \n",
    "    # Add the momentum of the parent particle to go to the lab frame\n",
    "    b = (parent.p3/parent.p3.mag)*parent.beta\n",
    "    child1 = child1.boost(b)\n",
    "    child2 = child2.boost(b)\n",
    "\n",
    "    print(\"child 1 mass:\"+str(child1.mass))\n",
    "    print(\"child 1 e:\"+str(child1.E))\n",
    "    print(\"child 1 px:\"+str(child1.x))\n",
    "    print(\"child 1 py:\"+str(child1.y))\n",
    "    print(\"child 1 pz:\"+str(child1.z))\n",
    "    print(\"child 2 mass:\"+str(child2.mass))\n",
    "    print(\"child 2 e:\"+str(child2.E))\n",
    "    print(\"child 2 px:\"+str(child2.x))\n",
    "    print(\"child 2 py:\"+str(child2.y))\n",
    "    print(\"child 2 pz:\"+str(child2.z))\n",
    "    return child1, child2\n",
    "\n"
   ]
  },
  {
   "cell_type": "code",
   "execution_count": 3,
   "metadata": {},
   "outputs": [
    {
     "name": "stdout",
     "output_type": "stream",
     "text": [
      "mass: 16.7\n",
      "8.35\n",
      "child 1 mass:0.5110000000000028\n",
      "child 1 e:8.82\n",
      "child 1 px:2.840756941380238\n",
      "child 1 py:0.0\n",
      "child 1 pz:8.334349344729917\n",
      "child 2 mass:0.5110000000000028\n",
      "child 2 e:8.82\n",
      "child 2 px:2.840756941380238\n",
      "child 2 py:0.0\n",
      "child 2 pz:-8.334349344729917\n",
      "Delta theta = -142.3567206859051\n",
      "done\n"
     ]
    }
   ],
   "source": [
    "# Masses of particles \n",
    "e_mass = 0.511 # MeV\n",
    "\n",
    "x_mass = 16.7 # MeV\n",
    "#x_energy = 18.15 # MeV, M1 transition berylium\n",
    "x_energy = 17.64 # MeV, M1 transition berylium\n",
    "x_momentum = sqrt(x_energy**2-x_mass**2)\n",
    "\n",
    "num_events = 1\n",
    "\n",
    "# initialize parent particle\n",
    "parent  = TLorentzVector(x_momentum,0,0,x_energy)\n",
    "\n",
    "\n",
    "# decay parent particle into electrons\n",
    "e1,e2 = decay(parent, e_mass)\n",
    "print(\"Delta theta = \"+str((e1.theta-e2.theta)*180/pi))\n",
    "\n",
    "print(\"done\")"
   ]
  },
  {
   "cell_type": "code",
   "execution_count": 4,
   "metadata": {},
   "outputs": [],
   "source": [
    "# Questions:\n",
    "\n",
    "# How does opening angle change with mass of X boson?\n",
    "# How does opening angle change with energy of X boson?\n"
   ]
  },
  {
   "cell_type": "code",
   "execution_count": null,
   "metadata": {},
   "outputs": [],
   "source": []
  }
 ],
 "metadata": {
  "kernelspec": {
   "display_name": "Python 3",
   "language": "python",
   "name": "python3"
  },
  "language_info": {
   "codemirror_mode": {
    "name": "ipython",
    "version": 3
   },
   "file_extension": ".py",
   "mimetype": "text/x-python",
   "name": "python",
   "nbconvert_exporter": "python",
   "pygments_lexer": "ipython3",
   "version": "3.7.3"
  }
 },
 "nbformat": 4,
 "nbformat_minor": 2
}
